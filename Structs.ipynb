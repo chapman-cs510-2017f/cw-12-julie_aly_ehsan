{
 "cells": [
  {
   "cell_type": "markdown",
   "metadata": {
    "collapsed": false
   },
   "source": [
    "## Structs ##"
   ]
  },
  {
   "cell_type": "markdown",
   "metadata": {
    "collapsed": false
   },
   "source": [
    "To print output in this code in C++, cout is used. The C we examined in the previous class does not use cout. In C++ structs have a typedef defined automatically, unlike in C."
   ]
  },
  {
   "cell_type": "markdown",
   "metadata": {
    "collapsed": false
   },
   "source": [
    "When setting a vector in C++, the code references the address. In C, the code points to the value."
   ]
  },
  {
   "cell_type": "markdown",
   "metadata": {
    "collapsed": false
   },
   "source": [
    "#define guard avoids repeating using the header file more than once."
   ]
  },
  {
   "cell_type": "markdown",
   "metadata": {
    "collapsed": false
   },
   "source": [
    "Type overloading allows you to have multiple definitions for the same function name. It could be useful because it determines which is the correct function to use depending on arguments and types of the formal arguments."
   ]
  },
  {
   "cell_type": "markdown",
   "metadata": {
    "collapsed": false
   },
   "source": [
    "Pass by reference in C++ can be done with references or pointers. In C, pass by reference is done by passing a pointer."
   ]
  },
  {
   "cell_type": "markdown",
   "metadata": {
    "collapsed": false
   },
   "source": [
    "Operator type overloading allows you to define operators such as + to work on new types of data."
   ]
  },
  {
   "cell_type": "markdown",
   "metadata": {
    "collapsed": false
   },
   "source": [
    "The output of the code:\n",
    "\n",
    "First the value of Vec3 is printed before set_vect3. This uses pass-by-value. \n",
    "\n",
    "The value of Vec3 is printed after set_vec3. The results is the same as before because it uses pass-by-values which does not change the value of the outside function.\n",
    "\n",
    "Next, the modified value of vprime is printed.\n",
    "\n",
    "The value of Vec2 is printed before set_vec2. Pass-by-reference is used.\n",
    "\n",
    "The value of outside value of Vec2 is printed. This has been changed to the new value because pass-by-reference was used. "
   ]
  }
 ],
 "metadata": {
  "kernelspec": {
   "display_name": "Bash (Linux)",
   "language": "bash",
   "name": "bash"
  },
  "language_info": {
   "codemirror_mode": "shell",
   "file_extension": ".sh",
   "mimetype": "text/x-sh",
   "name": "bash"
  }
 },
 "nbformat": 4,
 "nbformat_minor": 0
}